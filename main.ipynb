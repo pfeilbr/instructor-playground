{
 "cells": [
  {
   "cell_type": "code",
   "execution_count": null,
   "metadata": {},
   "outputs": [],
   "source": [
    "import instructor\n",
    "from openai import OpenAI\n",
    "from pydantic import BaseModel, Field\n",
    "from typing import List\n",
    "from dotenv import load_dotenv\n",
    "\n",
    "load_dotenv()\n",
    "\n",
    "# Enables `response_model`\n",
    "client = instructor.patch(OpenAI())"
   ]
  },
  {
   "cell_type": "code",
   "execution_count": null,
   "metadata": {},
   "outputs": [],
   "source": [
    "\n",
    "\n",
    "class UserDetail(BaseModel):\n",
    "    name: str\n",
    "    age: int\n",
    "\n",
    "user = client.chat.completions.create(\n",
    "    model=\"gpt-3.5-turbo\",\n",
    "    response_model=UserDetail,\n",
    "    messages=[\n",
    "        {\"role\": \"user\", \"content\": \"Extract Brian is 46 years old\"},\n",
    "    ]\n",
    ")\n",
    "\n",
    "assert isinstance(user, UserDetail)\n",
    "assert user.name == \"Brian\"\n",
    "assert user.age == 46\n",
    "\n",
    "json_str = user.model_dump_json()\n",
    "print(json_str)"
   ]
  },
  {
   "cell_type": "code",
   "execution_count": null,
   "metadata": {},
   "outputs": [],
   "source": [
    "\n",
    "class Website(BaseModel):\n",
    "    name: str\n",
    "    url: str\n",
    "\n",
    "class WebsiteExtraction(BaseModel):\n",
    "    websites: List[Website] = Field(\n",
    "        ...,\n",
    "        description=\"Body of the answer, each website should be a separate object with a name and a url of the website\",\n",
    "    )\n",
    "\n",
    "def get_websites(prompt) -> WebsiteExtraction:\n",
    "    website_extraction: WebsiteExtraction = client.chat.completions.create(\n",
    "        model=\"gpt-3.5-turbo\",\n",
    "        response_model=WebsiteExtraction,\n",
    "        messages=[\n",
    "            {\"role\": \"user\", \"content\": prompt},\n",
    "        ]\n",
    "    )\n",
    "    return '\\n'.join([f\"{website.name}, {website.url}\" for website in website_extraction.websites])\n",
    "    \n",
    "\n",
    "#print(get_websites(\"Extract the top 20 technology websites\"), \"\\n\")\n",
    "print(get_websites(\"\"\"\n",
    "    Extract the top 20 AWS blog websitess.\n",
    "    The website should not be owned by AWS the company.\n",
    "    The website URL can not have 'amazon.com' as part of the website url\n",
    "\"\"\"), \"\\n\")"
   ]
  }
 ],
 "metadata": {
  "kernelspec": {
   "display_name": "Python 3 (ipykernel)",
   "language": "python",
   "name": "python3"
  },
  "language_info": {
   "codemirror_mode": {
    "name": "ipython",
    "version": 3
   },
   "file_extension": ".py",
   "mimetype": "text/x-python",
   "name": "python",
   "nbconvert_exporter": "python",
   "pygments_lexer": "ipython3",
   "version": "3.11.5"
  }
 },
 "nbformat": 4,
 "nbformat_minor": 5
}
