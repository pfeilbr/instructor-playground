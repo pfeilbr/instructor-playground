{
 "cells": [
  {
   "cell_type": "code",
   "execution_count": 11,
   "metadata": {},
   "outputs": [
    {
     "ename": "ModuleNotFoundError",
     "evalue": "No module named 'devtools'",
     "output_type": "error",
     "traceback": [
      "\u001b[0;31m---------------------------------------------------------------------------\u001b[0m",
      "\u001b[0;31mModuleNotFoundError\u001b[0m                       Traceback (most recent call last)",
      "\u001b[1;32m/Users/pfeilbr/projects/instructor-playground/main.ipynb Cell 1\u001b[0m line \u001b[0;36m5\n\u001b[1;32m      <a href='vscode-notebook-cell:/Users/pfeilbr/projects/instructor-playground/main.ipynb#W1sZmlsZQ%3D%3D?line=2'>3</a>\u001b[0m \u001b[39mfrom\u001b[39;00m \u001b[39mpydantic\u001b[39;00m \u001b[39mimport\u001b[39;00m BaseModel, Field\n\u001b[1;32m      <a href='vscode-notebook-cell:/Users/pfeilbr/projects/instructor-playground/main.ipynb#W1sZmlsZQ%3D%3D?line=3'>4</a>\u001b[0m \u001b[39mfrom\u001b[39;00m \u001b[39mtyping\u001b[39;00m \u001b[39mimport\u001b[39;00m List\n\u001b[0;32m----> <a href='vscode-notebook-cell:/Users/pfeilbr/projects/instructor-playground/main.ipynb#W1sZmlsZQ%3D%3D?line=4'>5</a>\u001b[0m \u001b[39mfrom\u001b[39;00m \u001b[39mdevtools\u001b[39;00m \u001b[39mimport\u001b[39;00m pprint\n\u001b[1;32m      <a href='vscode-notebook-cell:/Users/pfeilbr/projects/instructor-playground/main.ipynb#W1sZmlsZQ%3D%3D?line=5'>6</a>\u001b[0m \u001b[39mfrom\u001b[39;00m \u001b[39mdotenv\u001b[39;00m \u001b[39mimport\u001b[39;00m load_dotenv\n\u001b[1;32m      <a href='vscode-notebook-cell:/Users/pfeilbr/projects/instructor-playground/main.ipynb#W1sZmlsZQ%3D%3D?line=7'>8</a>\u001b[0m load_dotenv()\n",
      "\u001b[0;31mModuleNotFoundError\u001b[0m: No module named 'devtools'"
     ]
    }
   ],
   "source": [
    "import instructor\n",
    "from openai import OpenAI\n",
    "from pydantic import BaseModel, Field\n",
    "from typing import List\n",
    "from dotenv import load_dotenv\n",
    "\n",
    "load_dotenv()\n",
    "\n",
    "# Enables `response_model`\n",
    "client = instructor.patch(OpenAI())"
   ]
  },
  {
   "cell_type": "code",
   "execution_count": 3,
   "metadata": {},
   "outputs": [
    {
     "name": "stdout",
     "output_type": "stream",
     "text": [
      "{\"name\":\"Brian\",\"age\":46}\n"
     ]
    }
   ],
   "source": [
    "\n",
    "\n",
    "class UserDetail(BaseModel):\n",
    "    name: str\n",
    "    age: int\n",
    "\n",
    "user = client.chat.completions.create(\n",
    "    model=\"gpt-3.5-turbo\",\n",
    "    response_model=UserDetail,\n",
    "    messages=[\n",
    "        {\"role\": \"user\", \"content\": \"Extract Brian is 46 years old\"},\n",
    "    ]\n",
    ")\n",
    "\n",
    "assert isinstance(user, UserDetail)\n",
    "assert user.name == \"Brian\"\n",
    "assert user.age == 46\n",
    "\n",
    "json_str = user.model_dump_json()\n",
    "print(json_str)"
   ]
  },
  {
   "cell_type": "code",
   "execution_count": 14,
   "metadata": {},
   "outputs": [
    {
     "name": "stdout",
     "output_type": "stream",
     "text": [
      "{\n",
      "  \"websites\": [\n",
      "    {\n",
      "      \"name\": \"TechCrunch\",\n",
      "      \"url\": \"https://techcrunch.com/\"\n",
      "    },\n",
      "    {\n",
      "      \"name\": \"The Verge\",\n",
      "      \"url\": \"https://www.theverge.com/\"\n",
      "    },\n",
      "    {\n",
      "      \"name\": \"Wired\",\n",
      "      \"url\": \"https://www.wired.com/\"\n",
      "    },\n",
      "    {\n",
      "      \"name\": \"CNET\",\n",
      "      \"url\": \"https://www.cnet.com/\"\n",
      "    },\n",
      "    {\n",
      "      \"name\": \"Mashable\",\n",
      "      \"url\": \"https://mashable.com/\"\n",
      "    },\n",
      "    {\n",
      "      \"name\": \"Gizmodo\",\n",
      "      \"url\": \"https://gizmodo.com/\"\n",
      "    },\n",
      "    {\n",
      "      \"name\": \"Engadget\",\n",
      "      \"url\": \"https://www.engadget.com/\"\n",
      "    },\n",
      "    {\n",
      "      \"name\": \"TechRadar\",\n",
      "      \"url\": \"https://www.techradar.com/\"\n",
      "    },\n",
      "    {\n",
      "      \"name\": \"Ars Technica\",\n",
      "      \"url\": \"https://arstechnica.com/\"\n",
      "    },\n",
      "    {\n",
      "      \"name\": \"PCMag\",\n",
      "      \"url\": \"https://www.pcmag.com/\"\n",
      "    },\n",
      "    {\n",
      "      \"name\": \"Digital Trends\",\n",
      "      \"url\": \"https://www.digitaltrends.com/\"\n",
      "    },\n",
      "    {\n",
      "      \"name\": \"VentureBeat\",\n",
      "      \"url\": \"https://venturebeat.com/\"\n",
      "    },\n",
      "    {\n",
      "      \"name\": \"ZDNet\",\n",
      "      \"url\": \"https://www.zdnet.com/\"\n",
      "    },\n",
      "    {\n",
      "      \"name\": \"Android Authority\",\n",
      "      \"url\": \"https://www.androidauthority.com/\"\n",
      "    },\n",
      "    {\n",
      "      \"name\": \"Tom's Hardware\",\n",
      "      \"url\": \"https://www.tomshardware.com/\"\n",
      "    },\n",
      "    {\n",
      "      \"name\": \"MakeUseOf\",\n",
      "      \"url\": \"https://www.makeuseof.com/\"\n",
      "    },\n",
      "    {\n",
      "      \"name\": \"SlashGear\",\n",
      "      \"url\": \"https://www.slashgear.com/\"\n",
      "    },\n",
      "    {\n",
      "      \"name\": \"Techspot\",\n",
      "      \"url\": \"https://www.techspot.com/\"\n",
      "    },\n",
      "    {\n",
      "      \"name\": \"Gigaom\",\n",
      "      \"url\": \"https://gigaom.com/\"\n",
      "    },\n",
      "    {\n",
      "      \"name\": \"AnandTech\",\n",
      "      \"url\": \"https://www.anandtech.com/\"\n",
      "    }\n",
      "  ]\n",
      "}\n"
     ]
    }
   ],
   "source": [
    "\n",
    "class Website(BaseModel):\n",
    "    name: str\n",
    "    url: str\n",
    "\n",
    "class WebsiteExtraction(BaseModel):\n",
    "    websites: List[Website] = Field(\n",
    "        ...,\n",
    "        description=\"Body of the answer, each website should be a separate object with a name and a url of the website\",\n",
    "    )\n",
    "\n",
    "websites: WebsiteExtraction = client.chat.completions.create(\n",
    "    model=\"gpt-3.5-turbo\",\n",
    "    response_model=WebsiteExtraction,\n",
    "    messages=[\n",
    "        {\"role\": \"user\", \"content\": \"Extract the top 20 technology websites\"},\n",
    "    ]\n",
    ")\n",
    "\n",
    "print(websites.model_dump_json(indent=2))"
   ]
  }
 ],
 "metadata": {
  "kernelspec": {
   "display_name": "Python 3 (ipykernel)",
   "language": "python",
   "name": "python3"
  },
  "language_info": {
   "codemirror_mode": {
    "name": "ipython",
    "version": 3
   },
   "file_extension": ".py",
   "mimetype": "text/x-python",
   "name": "python",
   "nbconvert_exporter": "python",
   "pygments_lexer": "ipython3",
   "version": "3.11.5"
  }
 },
 "nbformat": 4,
 "nbformat_minor": 5
}
